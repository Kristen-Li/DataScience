{
 "cells": [
  {
   "cell_type": "code",
   "execution_count": 1,
   "metadata": {},
   "outputs": [],
   "source": [
    "# Import some necessary libraries\n",
    "import numpy as np\n",
    "import pandas as pd\n",
    "import json\n",
    "from tqdm import tqdm\n",
    "import matplotlib.pyplot as plt\n",
    "import seaborn as sns"
   ]
  },
  {
   "cell_type": "markdown",
   "metadata": {},
   "source": [
    "## Question 1: Load\n",
    "#### Programmatically download and load into your favorite analytical tool the transactions data."
   ]
  },
  {
   "cell_type": "code",
   "execution_count": 2,
   "metadata": {},
   "outputs": [
    {
     "name": "stderr",
     "output_type": "stream",
     "text": [
      "fatal: destination path 'DS' already exists and is not an empty directory.\n"
     ]
    }
   ],
   "source": [
    "!git clone https://github.com/CapitalOneRecruiting/DS.git"
   ]
  },
  {
   "cell_type": "code",
   "execution_count": 3,
   "metadata": {},
   "outputs": [
    {
     "name": "stdout",
     "output_type": "stream",
     "text": [
      "File Name                                             Modified             Size\n",
      "transactions.txt                               2020-01-07 21:32:42    609937737\n",
      "Unziped!\n"
     ]
    }
   ],
   "source": [
    "from zipfile import ZipFile \n",
    "\n",
    "file_name = \"DS/transactions.zip\"\n",
    "  \n",
    "# opening the zip file in READ mode \n",
    "with ZipFile(file_name, 'r') as zip: \n",
    "    # printing all the contents of the zip file \n",
    "    zip.printdir()      \n",
    "    zip.extractall() \n",
    "    print('Unziped!') "
   ]
  },
  {
   "cell_type": "code",
   "execution_count": 4,
   "metadata": {},
   "outputs": [
    {
     "name": "stderr",
     "output_type": "stream",
     "text": [
      "100%|███████████████████████████████████████████████████████████████████████| 786363/786363 [00:10<00:00, 72507.71it/s]\n"
     ]
    },
    {
     "data": {
      "text/html": [
       "<div>\n",
       "<style scoped>\n",
       "    .dataframe tbody tr th:only-of-type {\n",
       "        vertical-align: middle;\n",
       "    }\n",
       "\n",
       "    .dataframe tbody tr th {\n",
       "        vertical-align: top;\n",
       "    }\n",
       "\n",
       "    .dataframe thead th {\n",
       "        text-align: right;\n",
       "    }\n",
       "</style>\n",
       "<table border=\"1\" class=\"dataframe\">\n",
       "  <thead>\n",
       "    <tr style=\"text-align: right;\">\n",
       "      <th></th>\n",
       "      <th>accountNumber</th>\n",
       "      <th>customerId</th>\n",
       "      <th>creditLimit</th>\n",
       "      <th>availableMoney</th>\n",
       "      <th>transactionDateTime</th>\n",
       "      <th>transactionAmount</th>\n",
       "      <th>merchantName</th>\n",
       "      <th>acqCountry</th>\n",
       "      <th>merchantCountryCode</th>\n",
       "      <th>posEntryMode</th>\n",
       "      <th>...</th>\n",
       "      <th>echoBuffer</th>\n",
       "      <th>currentBalance</th>\n",
       "      <th>merchantCity</th>\n",
       "      <th>merchantState</th>\n",
       "      <th>merchantZip</th>\n",
       "      <th>cardPresent</th>\n",
       "      <th>posOnPremises</th>\n",
       "      <th>recurringAuthInd</th>\n",
       "      <th>expirationDateKeyInMatch</th>\n",
       "      <th>isFraud</th>\n",
       "    </tr>\n",
       "  </thead>\n",
       "  <tbody>\n",
       "    <tr>\n",
       "      <th>0</th>\n",
       "      <td>737265056</td>\n",
       "      <td>737265056</td>\n",
       "      <td>5000.0</td>\n",
       "      <td>5000.0</td>\n",
       "      <td>2016-08-13T14:27:32</td>\n",
       "      <td>98.55</td>\n",
       "      <td>Uber</td>\n",
       "      <td>US</td>\n",
       "      <td>US</td>\n",
       "      <td>02</td>\n",
       "      <td>...</td>\n",
       "      <td></td>\n",
       "      <td>0.0</td>\n",
       "      <td></td>\n",
       "      <td></td>\n",
       "      <td></td>\n",
       "      <td>False</td>\n",
       "      <td></td>\n",
       "      <td></td>\n",
       "      <td>False</td>\n",
       "      <td>False</td>\n",
       "    </tr>\n",
       "    <tr>\n",
       "      <th>1</th>\n",
       "      <td>737265056</td>\n",
       "      <td>737265056</td>\n",
       "      <td>5000.0</td>\n",
       "      <td>5000.0</td>\n",
       "      <td>2016-10-11T05:05:54</td>\n",
       "      <td>74.51</td>\n",
       "      <td>AMC #191138</td>\n",
       "      <td>US</td>\n",
       "      <td>US</td>\n",
       "      <td>09</td>\n",
       "      <td>...</td>\n",
       "      <td></td>\n",
       "      <td>0.0</td>\n",
       "      <td></td>\n",
       "      <td></td>\n",
       "      <td></td>\n",
       "      <td>True</td>\n",
       "      <td></td>\n",
       "      <td></td>\n",
       "      <td>False</td>\n",
       "      <td>False</td>\n",
       "    </tr>\n",
       "    <tr>\n",
       "      <th>2</th>\n",
       "      <td>737265056</td>\n",
       "      <td>737265056</td>\n",
       "      <td>5000.0</td>\n",
       "      <td>5000.0</td>\n",
       "      <td>2016-11-08T09:18:39</td>\n",
       "      <td>7.47</td>\n",
       "      <td>Play Store</td>\n",
       "      <td>US</td>\n",
       "      <td>US</td>\n",
       "      <td>09</td>\n",
       "      <td>...</td>\n",
       "      <td></td>\n",
       "      <td>0.0</td>\n",
       "      <td></td>\n",
       "      <td></td>\n",
       "      <td></td>\n",
       "      <td>False</td>\n",
       "      <td></td>\n",
       "      <td></td>\n",
       "      <td>False</td>\n",
       "      <td>False</td>\n",
       "    </tr>\n",
       "    <tr>\n",
       "      <th>3</th>\n",
       "      <td>737265056</td>\n",
       "      <td>737265056</td>\n",
       "      <td>5000.0</td>\n",
       "      <td>5000.0</td>\n",
       "      <td>2016-12-10T02:14:50</td>\n",
       "      <td>7.47</td>\n",
       "      <td>Play Store</td>\n",
       "      <td>US</td>\n",
       "      <td>US</td>\n",
       "      <td>09</td>\n",
       "      <td>...</td>\n",
       "      <td></td>\n",
       "      <td>0.0</td>\n",
       "      <td></td>\n",
       "      <td></td>\n",
       "      <td></td>\n",
       "      <td>False</td>\n",
       "      <td></td>\n",
       "      <td></td>\n",
       "      <td>False</td>\n",
       "      <td>False</td>\n",
       "    </tr>\n",
       "    <tr>\n",
       "      <th>4</th>\n",
       "      <td>830329091</td>\n",
       "      <td>830329091</td>\n",
       "      <td>5000.0</td>\n",
       "      <td>5000.0</td>\n",
       "      <td>2016-03-24T21:04:46</td>\n",
       "      <td>71.18</td>\n",
       "      <td>Tim Hortons #947751</td>\n",
       "      <td>US</td>\n",
       "      <td>US</td>\n",
       "      <td>02</td>\n",
       "      <td>...</td>\n",
       "      <td></td>\n",
       "      <td>0.0</td>\n",
       "      <td></td>\n",
       "      <td></td>\n",
       "      <td></td>\n",
       "      <td>True</td>\n",
       "      <td></td>\n",
       "      <td></td>\n",
       "      <td>False</td>\n",
       "      <td>False</td>\n",
       "    </tr>\n",
       "  </tbody>\n",
       "</table>\n",
       "<p>5 rows × 29 columns</p>\n",
       "</div>"
      ],
      "text/plain": [
       "  accountNumber customerId  creditLimit  availableMoney  transactionDateTime  \\\n",
       "0     737265056  737265056       5000.0          5000.0  2016-08-13T14:27:32   \n",
       "1     737265056  737265056       5000.0          5000.0  2016-10-11T05:05:54   \n",
       "2     737265056  737265056       5000.0          5000.0  2016-11-08T09:18:39   \n",
       "3     737265056  737265056       5000.0          5000.0  2016-12-10T02:14:50   \n",
       "4     830329091  830329091       5000.0          5000.0  2016-03-24T21:04:46   \n",
       "\n",
       "   transactionAmount         merchantName acqCountry merchantCountryCode  \\\n",
       "0              98.55                 Uber         US                  US   \n",
       "1              74.51          AMC #191138         US                  US   \n",
       "2               7.47           Play Store         US                  US   \n",
       "3               7.47           Play Store         US                  US   \n",
       "4              71.18  Tim Hortons #947751         US                  US   \n",
       "\n",
       "  posEntryMode  ... echoBuffer currentBalance merchantCity merchantState  \\\n",
       "0           02  ...                       0.0                              \n",
       "1           09  ...                       0.0                              \n",
       "2           09  ...                       0.0                              \n",
       "3           09  ...                       0.0                              \n",
       "4           02  ...                       0.0                              \n",
       "\n",
       "  merchantZip cardPresent posOnPremises recurringAuthInd  \\\n",
       "0                   False                                  \n",
       "1                    True                                  \n",
       "2                   False                                  \n",
       "3                   False                                  \n",
       "4                    True                                  \n",
       "\n",
       "  expirationDateKeyInMatch isFraud  \n",
       "0                    False   False  \n",
       "1                    False   False  \n",
       "2                    False   False  \n",
       "3                    False   False  \n",
       "4                    False   False  \n",
       "\n",
       "[5 rows x 29 columns]"
      ]
     },
     "execution_count": 4,
     "metadata": {},
     "output_type": "execute_result"
    }
   ],
   "source": [
    "# Load the dataset\n",
    "f = open('transactions.txt', 'r')\n",
    "#readlines() output an list \n",
    "docs = []\n",
    "d = f.readlines()\n",
    "\n",
    "# use tqdm to add progress bars\n",
    "for i in tqdm(range(len(d))):\n",
    "    dic = json.loads(d[i])\n",
    "    docs.append(dic)\n",
    "\n",
    "df = pd.DataFrame(docs)\n",
    "df.head()"
   ]
  },
  {
   "cell_type": "code",
   "execution_count": 5,
   "metadata": {},
   "outputs": [],
   "source": [
    "#Save a local copy\n",
    "df.to_csv('fraud.csv', index=False)"
   ]
  },
  {
   "cell_type": "code",
   "execution_count": 6,
   "metadata": {},
   "outputs": [],
   "source": [
    "# df = pd.read_csv('fraud.csv')"
   ]
  },
  {
   "cell_type": "markdown",
   "metadata": {},
   "source": [
    "#### Please describe the structure of the data. Number of records and fields in each record?"
   ]
  },
  {
   "cell_type": "code",
   "execution_count": 7,
   "metadata": {},
   "outputs": [
    {
     "name": "stdout",
     "output_type": "stream",
     "text": [
      "<class 'pandas.core.frame.DataFrame'>\n",
      "RangeIndex: 786363 entries, 0 to 786362\n",
      "Data columns (total 29 columns):\n",
      " #   Column                    Non-Null Count   Dtype  \n",
      "---  ------                    --------------   -----  \n",
      " 0   accountNumber             786363 non-null  object \n",
      " 1   customerId                786363 non-null  object \n",
      " 2   creditLimit               786363 non-null  float64\n",
      " 3   availableMoney            786363 non-null  float64\n",
      " 4   transactionDateTime       786363 non-null  object \n",
      " 5   transactionAmount         786363 non-null  float64\n",
      " 6   merchantName              786363 non-null  object \n",
      " 7   acqCountry                786363 non-null  object \n",
      " 8   merchantCountryCode       786363 non-null  object \n",
      " 9   posEntryMode              786363 non-null  object \n",
      " 10  posConditionCode          786363 non-null  object \n",
      " 11  merchantCategoryCode      786363 non-null  object \n",
      " 12  currentExpDate            786363 non-null  object \n",
      " 13  accountOpenDate           786363 non-null  object \n",
      " 14  dateOfLastAddressChange   786363 non-null  object \n",
      " 15  cardCVV                   786363 non-null  object \n",
      " 16  enteredCVV                786363 non-null  object \n",
      " 17  cardLast4Digits           786363 non-null  object \n",
      " 18  transactionType           786363 non-null  object \n",
      " 19  echoBuffer                786363 non-null  object \n",
      " 20  currentBalance            786363 non-null  float64\n",
      " 21  merchantCity              786363 non-null  object \n",
      " 22  merchantState             786363 non-null  object \n",
      " 23  merchantZip               786363 non-null  object \n",
      " 24  cardPresent               786363 non-null  bool   \n",
      " 25  posOnPremises             786363 non-null  object \n",
      " 26  recurringAuthInd          786363 non-null  object \n",
      " 27  expirationDateKeyInMatch  786363 non-null  bool   \n",
      " 28  isFraud                   786363 non-null  bool   \n",
      "dtypes: bool(3), float64(4), object(22)\n",
      "memory usage: 158.2+ MB\n"
     ]
    }
   ],
   "source": [
    "df.info()"
   ]
  },
  {
   "cell_type": "code",
   "execution_count": 8,
   "metadata": {},
   "outputs": [
    {
     "name": "stderr",
     "output_type": "stream",
     "text": [
      "100%|██████████████████████████████████████████████████████████████████████████████████| 29/29 [00:07<00:00,  3.98it/s]\n"
     ]
    }
   ],
   "source": [
    "# Let's replace \"\" with a None 'object' data. Pandas will auto convert None to NaN when the data type is 'float'.\n",
    "for j in tqdm(df.columns):\n",
    "    df[j] = df[j].map(lambda x: None if x =='' else x)"
   ]
  },
  {
   "cell_type": "code",
   "execution_count": 9,
   "metadata": {},
   "outputs": [
    {
     "name": "stdout",
     "output_type": "stream",
     "text": [
      "<class 'pandas.core.frame.DataFrame'>\n",
      "RangeIndex: 786363 entries, 0 to 786362\n",
      "Data columns (total 29 columns):\n",
      " #   Column                    Non-Null Count   Dtype  \n",
      "---  ------                    --------------   -----  \n",
      " 0   accountNumber             786363 non-null  object \n",
      " 1   customerId                786363 non-null  object \n",
      " 2   creditLimit               786363 non-null  float64\n",
      " 3   availableMoney            786363 non-null  float64\n",
      " 4   transactionDateTime       786363 non-null  object \n",
      " 5   transactionAmount         786363 non-null  float64\n",
      " 6   merchantName              786363 non-null  object \n",
      " 7   acqCountry                781801 non-null  object \n",
      " 8   merchantCountryCode       785639 non-null  object \n",
      " 9   posEntryMode              782309 non-null  object \n",
      " 10  posConditionCode          785954 non-null  object \n",
      " 11  merchantCategoryCode      786363 non-null  object \n",
      " 12  currentExpDate            786363 non-null  object \n",
      " 13  accountOpenDate           786363 non-null  object \n",
      " 14  dateOfLastAddressChange   786363 non-null  object \n",
      " 15  cardCVV                   786363 non-null  object \n",
      " 16  enteredCVV                786363 non-null  object \n",
      " 17  cardLast4Digits           786363 non-null  object \n",
      " 18  transactionType           785665 non-null  object \n",
      " 19  echoBuffer                0 non-null       object \n",
      " 20  currentBalance            786363 non-null  float64\n",
      " 21  merchantCity              0 non-null       object \n",
      " 22  merchantState             0 non-null       object \n",
      " 23  merchantZip               0 non-null       object \n",
      " 24  cardPresent               786363 non-null  bool   \n",
      " 25  posOnPremises             0 non-null       object \n",
      " 26  recurringAuthInd          0 non-null       object \n",
      " 27  expirationDateKeyInMatch  786363 non-null  bool   \n",
      " 28  isFraud                   786363 non-null  bool   \n",
      "dtypes: bool(3), float64(4), object(22)\n",
      "memory usage: 158.2+ MB\n"
     ]
    }
   ],
   "source": [
    "df.info()"
   ]
  },
  {
   "cell_type": "markdown",
   "metadata": {},
   "source": [
    "#### structure of the dataframe\n",
    "* There are 786363 records and 29 fields.\n",
    "* There are 4 numerical features, 3 boolean variables, and 22 objective features.\n",
    "* \"isFraud\" is the target variable.\n",
    "* 'echoBuffer', 'merchantCity', 'merchantState', 'merchantZip', 'posOnPremises','recurringAuthInd' are empty fields. Other fields have no missing values. \n"
   ]
  },
  {
   "cell_type": "markdown",
   "metadata": {},
   "source": [
    "#### Please provide some additional basic summary statistics for each field. Be sure to include a count of null, minimum, maximum, and unique values where appropriate."
   ]
  },
  {
   "cell_type": "code",
   "execution_count": 10,
   "metadata": {
    "scrolled": true
   },
   "outputs": [
    {
     "data": {
      "text/html": [
       "<div>\n",
       "<style scoped>\n",
       "    .dataframe tbody tr th:only-of-type {\n",
       "        vertical-align: middle;\n",
       "    }\n",
       "\n",
       "    .dataframe tbody tr th {\n",
       "        vertical-align: top;\n",
       "    }\n",
       "\n",
       "    .dataframe thead th {\n",
       "        text-align: right;\n",
       "    }\n",
       "</style>\n",
       "<table border=\"1\" class=\"dataframe\">\n",
       "  <thead>\n",
       "    <tr style=\"text-align: right;\">\n",
       "      <th></th>\n",
       "      <th>creditLimit</th>\n",
       "      <th>availableMoney</th>\n",
       "      <th>transactionAmount</th>\n",
       "      <th>currentBalance</th>\n",
       "    </tr>\n",
       "  </thead>\n",
       "  <tbody>\n",
       "    <tr>\n",
       "      <th>count</th>\n",
       "      <td>786363.000000</td>\n",
       "      <td>786363.000000</td>\n",
       "      <td>786363.000000</td>\n",
       "      <td>786363.000000</td>\n",
       "    </tr>\n",
       "    <tr>\n",
       "      <th>mean</th>\n",
       "      <td>10759.464459</td>\n",
       "      <td>6250.725369</td>\n",
       "      <td>136.985791</td>\n",
       "      <td>4508.739089</td>\n",
       "    </tr>\n",
       "    <tr>\n",
       "      <th>std</th>\n",
       "      <td>11636.174890</td>\n",
       "      <td>8880.783989</td>\n",
       "      <td>147.725569</td>\n",
       "      <td>6457.442068</td>\n",
       "    </tr>\n",
       "    <tr>\n",
       "      <th>min</th>\n",
       "      <td>250.000000</td>\n",
       "      <td>-1005.630000</td>\n",
       "      <td>0.000000</td>\n",
       "      <td>0.000000</td>\n",
       "    </tr>\n",
       "    <tr>\n",
       "      <th>25%</th>\n",
       "      <td>5000.000000</td>\n",
       "      <td>1077.420000</td>\n",
       "      <td>33.650000</td>\n",
       "      <td>689.910000</td>\n",
       "    </tr>\n",
       "    <tr>\n",
       "      <th>50%</th>\n",
       "      <td>7500.000000</td>\n",
       "      <td>3184.860000</td>\n",
       "      <td>87.900000</td>\n",
       "      <td>2451.760000</td>\n",
       "    </tr>\n",
       "    <tr>\n",
       "      <th>75%</th>\n",
       "      <td>15000.000000</td>\n",
       "      <td>7500.000000</td>\n",
       "      <td>191.480000</td>\n",
       "      <td>5291.095000</td>\n",
       "    </tr>\n",
       "    <tr>\n",
       "      <th>max</th>\n",
       "      <td>50000.000000</td>\n",
       "      <td>50000.000000</td>\n",
       "      <td>2011.540000</td>\n",
       "      <td>47498.810000</td>\n",
       "    </tr>\n",
       "  </tbody>\n",
       "</table>\n",
       "</div>"
      ],
      "text/plain": [
       "         creditLimit  availableMoney  transactionAmount  currentBalance\n",
       "count  786363.000000   786363.000000      786363.000000   786363.000000\n",
       "mean    10759.464459     6250.725369         136.985791     4508.739089\n",
       "std     11636.174890     8880.783989         147.725569     6457.442068\n",
       "min       250.000000    -1005.630000           0.000000        0.000000\n",
       "25%      5000.000000     1077.420000          33.650000      689.910000\n",
       "50%      7500.000000     3184.860000          87.900000     2451.760000\n",
       "75%     15000.000000     7500.000000         191.480000     5291.095000\n",
       "max     50000.000000    50000.000000        2011.540000    47498.810000"
      ]
     },
     "execution_count": 10,
     "metadata": {},
     "output_type": "execute_result"
    }
   ],
   "source": [
    "df.describe()"
   ]
  },
  {
   "cell_type": "markdown",
   "metadata": {},
   "source": [
    "#### discriptive statistics\n",
    "\n",
    "* The average credit limit in this sample is 10759.46 dollar and the median is  7500.00 dollar. The minimum is 250.00 dollar and the maximum is 50000.00 dollar. \n",
    "* The average availabe money is 6250.73 dollar and the median is 3184.86 dollar. The minimum available money equals to -1005.63 dollar and maximum is 50000.00 dollar.\n",
    "* The average transaction amount is 136.99 dollar and the median equals to 87.90 dollar The minimum transaction amount  is 0.00 dollar, the maximum is 2011.54 dollar.\n",
    "* The average current balance is 4508.74 dollar, and the median equals to 2451.76 dollar. The minimum current balance among records is 0.00 dollar, the maximum is 47498.81 dollar.\n",
    "* The mean values are larger than the mode values for all of the numerial features, which means their distributions are skewed to the right. The majority of the credit card transactions are small in dollar values, with high standard deviations."
   ]
  },
  {
   "cell_type": "code",
   "execution_count": 11,
   "metadata": {},
   "outputs": [
    {
     "name": "stdout",
     "output_type": "stream",
     "text": [
      "There are 5000 number of unique customerId.\n",
      "There are 5000 number of unique accountNumber.\n",
      "There are 10 number of unique creditLimit.\n",
      "There are 5246 number of unique cardLast4Digits.\n",
      "There are 2490 number of unique merchantName.\n",
      "There are  4 number of unique merchantCountryCode.\n",
      "There are 10 number of unique merchantCategoryCode.\n"
     ]
    }
   ],
   "source": [
    "print('There are {0:2d} number of unique customerId.'.format(df.customerId.nunique()))\n",
    "print('There are {0:2d} number of unique accountNumber.'.format(df.accountNumber.nunique()))\n",
    "print('There are {0:2d} number of unique creditLimit.'.format(df.creditLimit.nunique()))\n",
    "print('There are {0:2d} number of unique cardLast4Digits.'.format(df.cardLast4Digits.nunique()))\n",
    "print('There are {0:2d} number of unique merchantName.'.format(df.merchantName.nunique()))\n",
    "print('There are {0:2d} number of unique merchantCountryCode.'.format(df.merchantCountryCode.nunique()))\n",
    "print('There are {0:2d} number of unique merchantCategoryCode.'.format(df.creditLimit.nunique()))\n"
   ]
  },
  {
   "cell_type": "code",
   "execution_count": 12,
   "metadata": {},
   "outputs": [
    {
     "data": {
      "text/plain": [
       "0"
      ]
     },
     "execution_count": 12,
     "metadata": {},
     "output_type": "execute_result"
    }
   ],
   "source": [
    "sum(df['customerId'] != df['accountNumber'])"
   ]
  },
  {
   "cell_type": "markdown",
   "metadata": {},
   "source": [
    "* CustomerId and accountNumber are identical, therefore we only need to keep one of them in the modeling part. \n",
    "* There are more unique cards than unique customers, which mean that one customer may have multiple cards. "
   ]
  },
  {
   "cell_type": "markdown",
   "metadata": {},
   "source": [
    "#### Convert 'string' to 'datetime' type "
   ]
  },
  {
   "cell_type": "code",
   "execution_count": 13,
   "metadata": {},
   "outputs": [],
   "source": [
    "df['transactionDateTime'] = pd.to_datetime(df['transactionDateTime'])\n",
    "df['accountOpenDate'] = pd.to_datetime(df['accountOpenDate'])\n",
    "df['currentExpDate'] = pd.to_datetime(df['currentExpDate'])\n",
    "df['dateOfLastAddressChange'] = pd.to_datetime(df['dateOfLastAddressChange'])"
   ]
  },
  {
   "cell_type": "code",
   "execution_count": 14,
   "metadata": {},
   "outputs": [
    {
     "data": {
      "text/plain": [
       "['transactionDateTime',\n",
       " 'currentExpDate',\n",
       " 'accountOpenDate',\n",
       " 'dateOfLastAddressChange']"
      ]
     },
     "execution_count": 14,
     "metadata": {},
     "output_type": "execute_result"
    }
   ],
   "source": [
    "df.select_dtypes('datetime').columns.tolist()"
   ]
  },
  {
   "cell_type": "markdown",
   "metadata": {},
   "source": [
    "#### Missing values"
   ]
  },
  {
   "cell_type": "code",
   "execution_count": 15,
   "metadata": {},
   "outputs": [
    {
     "data": {
      "text/plain": [
       "['echoBuffer',\n",
       " 'merchantCity',\n",
       " 'merchantState',\n",
       " 'merchantZip',\n",
       " 'posOnPremises',\n",
       " 'recurringAuthInd']"
      ]
     },
     "execution_count": 15,
     "metadata": {},
     "output_type": "execute_result"
    }
   ],
   "source": [
    "# Delete a column if 80% of the data is missing\n",
    "pct_null = df.isnull().sum() / len(df)\n",
    "missing_features = pct_null[pct_null > 0.8].index\n",
    "missing_features.tolist()"
   ]
  },
  {
   "cell_type": "code",
   "execution_count": 16,
   "metadata": {},
   "outputs": [],
   "source": [
    "df.drop(missing_features, axis=1, inplace=True)"
   ]
  },
  {
   "cell_type": "code",
   "execution_count": 17,
   "metadata": {},
   "outputs": [],
   "source": [
    "# Assign the label \"missing\" for the rest of the missing values.\n",
    "df.fillna('missing', inplace = True)"
   ]
  },
  {
   "cell_type": "markdown",
   "metadata": {},
   "source": [
    "## Question 2: Plot\n",
    "\n",
    "#### Plot a histogram of the processed amounts of each transaction, the transactionAmount column. Report any structure you find and any hypotheses you have about that structure."
   ]
  },
  {
   "cell_type": "code",
   "execution_count": 18,
   "metadata": {},
   "outputs": [
    {
     "data": {
      "text/plain": [
       "Text(-9.075000000000003, 0.5, 'Number of Transactions')"
      ]
     },
     "execution_count": 18,
     "metadata": {},
     "output_type": "execute_result"
    },
    {
     "data": {
      "image/png": "[encoded data removed]",
      "text/plain": [
       "<Figure size 360x360 with 1 Axes>"
      ]
     },
     "metadata": {
      "needs_background": "light"
     },
     "output_type": "display_data"
    }
   ],
   "source": [
    "# seaborn histogram of Transaction Amounts\n",
    "sns.displot(data = df, x =\"transactionAmount\",  kind = \"hist\", kde = True)        \n",
    "             \n",
    "# Add labels\n",
    "plt.title('Histogram of Transaction Amounts')\n",
    "plt.xlabel('Transaction Amounts ($)')\n",
    "plt.ylabel('Number of Transactions')"
   ]
  },
  {
   "cell_type": "code",
   "execution_count": 19,
   "metadata": {},
   "outputs": [
    {
     "data": {
      "text/plain": [
       "<matplotlib.axes._subplots.AxesSubplot at 0x1fa9113e040>"
      ]
     },
     "execution_count": 19,
     "metadata": {},
     "output_type": "execute_result"
    },
    {
     "data": {
      "image/png": "[encoded data removed]",
      "text/plain": [
       "<Figure size 1008x360 with 2 Axes>"
      ]
     },
     "metadata": {
      "needs_background": "light"
     },
     "output_type": "display_data"
    }
   ],
   "source": [
    "fig, axs = plt.subplots(1, 2, figsize=(14, 5))\n",
    "\n",
    "sns.histplot(data=df, x=\"transactionAmount\", kde=True, hue = \"isFraud\", color=\"skyblue\", ax=axs[ 0])\n",
    "sns.histplot(data=df, x=\"transactionAmount\", kde=True, hue = \"isFraud\", color=\"olive\", ax=axs[1], stat=\"probability\", common_norm=False)\n"
   ]
  },
  {
   "cell_type": "code",
   "execution_count": 20,
   "metadata": {},
   "outputs": [
    {
     "name": "stdout",
     "output_type": "stream",
     "text": [
      "The skewness of normal transactionAmount is 2.10.\n",
      "The skewness of fraudulous transactionAmount is 1.60.\n"
     ]
    }
   ],
   "source": [
    "print('The skewness of normal transactionAmount is {0:0.2f}.'.format(df[df.isFraud == False].transactionAmount.skew()))\n",
    "print('The skewness of fraudulous transactionAmount is {0:0.2f}.'.format(df[df.isFraud == True].transactionAmount.skew()))\n"
   ]
  },
  {
   "cell_type": "code",
   "execution_count": 21,
   "metadata": {},
   "outputs": [
    {
     "data": {
      "text/html": [
       "<div>\n",
       "<style scoped>\n",
       "    .dataframe tbody tr th:only-of-type {\n",
       "        vertical-align: middle;\n",
       "    }\n",
       "\n",
       "    .dataframe tbody tr th {\n",
       "        vertical-align: top;\n",
       "    }\n",
       "\n",
       "    .dataframe thead th {\n",
       "        text-align: right;\n",
       "    }\n",
       "</style>\n",
       "<table border=\"1\" class=\"dataframe\">\n",
       "  <thead>\n",
       "    <tr style=\"text-align: right;\">\n",
       "      <th></th>\n",
       "      <th>count</th>\n",
       "      <th>mean</th>\n",
       "      <th>std</th>\n",
       "      <th>min</th>\n",
       "      <th>25%</th>\n",
       "      <th>50%</th>\n",
       "      <th>75%</th>\n",
       "      <th>max</th>\n",
       "    </tr>\n",
       "    <tr>\n",
       "      <th>isFraud</th>\n",
       "      <th></th>\n",
       "      <th></th>\n",
       "      <th></th>\n",
       "      <th></th>\n",
       "      <th></th>\n",
       "      <th></th>\n",
       "      <th></th>\n",
       "      <th></th>\n",
       "    </tr>\n",
       "  </thead>\n",
       "  <tbody>\n",
       "    <tr>\n",
       "      <th>False</th>\n",
       "      <td>773946.0</td>\n",
       "      <td>135.570249</td>\n",
       "      <td>146.525305</td>\n",
       "      <td>0.0</td>\n",
       "      <td>33.19</td>\n",
       "      <td>86.76</td>\n",
       "      <td>189.39</td>\n",
       "      <td>2011.54</td>\n",
       "    </tr>\n",
       "    <tr>\n",
       "      <th>True</th>\n",
       "      <td>12417.0</td>\n",
       "      <td>225.215905</td>\n",
       "      <td>189.551393</td>\n",
       "      <td>0.0</td>\n",
       "      <td>86.00</td>\n",
       "      <td>176.98</td>\n",
       "      <td>311.46</td>\n",
       "      <td>1608.35</td>\n",
       "    </tr>\n",
       "  </tbody>\n",
       "</table>\n",
       "</div>"
      ],
      "text/plain": [
       "            count        mean         std  min    25%     50%     75%      max\n",
       "isFraud                                                                       \n",
       "False    773946.0  135.570249  146.525305  0.0  33.19   86.76  189.39  2011.54\n",
       "True      12417.0  225.215905  189.551393  0.0  86.00  176.98  311.46  1608.35"
      ]
     },
     "execution_count": 21,
     "metadata": {},
     "output_type": "execute_result"
    }
   ],
   "source": [
    " # stats of the transactionAmount by isFraud\n",
    "df.loc[:,[ 'transactionAmount','isFraud']].groupby(['isFraud'])['transactionAmount'].describe()"
   ]
  },
  {
   "cell_type": "code",
   "execution_count": 22,
   "metadata": {},
   "outputs": [
    {
     "name": "stdout",
     "output_type": "stream",
     "text": [
      "Count of Fraud transactions: 12417\n",
      "Proportions of Fraud transactions: 1.58%\n",
      "Sum of Fraud transactions dollar amount: $2796505.89\n",
      "Proportions of Fraud transactions dollar amount: 2.60%\n"
     ]
    }
   ],
   "source": [
    "print('Count of Fraud transactions: {0:2d}'.format(12417)) \n",
    "print('Proportions of Fraud transactions: {0:0.2f}%'.format(12417*100/786363)) \n",
    "print('Sum of Fraud transactions dollar amount: ${0:0.2f}'.format(df[df.isFraud].transactionAmount.sum()))\n",
    "print('Proportions of Fraud transactions dollar amount: {0:0.2f}%'.format((100*df[df.isFraud].transactionAmount.sum())/(df.transactionAmount.sum())) )"
   ]
  },
  {
   "cell_type": "markdown",
   "metadata": {},
   "source": [
    " #### Observations\n",
    " This left histogram shows the counts of each transaction amounts. In order to see their distributions more clearly, the right histogram normalizes the bars so that their heights sum to 1.  \n",
    " \n",
    " * It's clear that the number of fraudulous transactions is much smaller than normal transactions. Fraudulous transactions only account for 1.58% of the total number of transactions. \n",
    " \n",
    " * The distribution of fraudulous transactions is more skewed to the right than normal transactions. Both type of transactions are more frequent in small amounts, but the fraudlous transactions happen slightly more often than the normal transactions in the high valued transactions. \n",
    "\n",
    "* The average of normal transaction amounts is 135.57 dollars, which is less than the average of fraudulous transaction amounts(225.22 dollars). \n",
    "\n",
    "* Half of the normal transaction amounts is under 86.76 dollars, which is much less than that of fraudulous transactions(176.98 dollars). Meanwhile, 25% of normal transaction amounts is above 189 dollars, while 25% of fraudulous transaction amounts is above 311 dollars. \n",
    "\n",
    "* Proportions of fraudulous transactions among all transactions is  1.58%. And fraudulous transactions take up 2.60% of the whole transactions in dollar value. \n",
    "\n",
    "* There aren't many fraudulous transactions below 100 dollars, as it's probabaly not worth the effort and the risk.\n"
   ]
  },
  {
   "cell_type": "markdown",
   "metadata": {},
   "source": [
    "#### Right skewness and Box-Cox transformation\n",
    "To deal with right skewness, I can use take some transformations to the original transactionAmount. "
   ]
  },
  {
   "cell_type": "code",
   "execution_count": 23,
   "metadata": {},
   "outputs": [],
   "source": [
    "import scipy as sp\n",
    "\n",
    "# add a small positive number, as box-cox transformation needs positive numbers.\n",
    "df['transactionAmount_t'] = df['transactionAmount'] + 1e-9\n",
    "df['transactionAmount_t'], maxlog, (min_ci, max_ci) = sp.stats.boxcox(df['transactionAmount_t'], alpha=0.01)"
   ]
  },
  {
   "cell_type": "code",
   "execution_count": 24,
   "metadata": {},
   "outputs": [
    {
     "name": "stdout",
     "output_type": "stream",
     "text": [
      "Skewness of transactionAmount: 2.09\n",
      "Skewness of transactionAmount after Box-Cox transformation: -0.39\n"
     ]
    },
    {
     "data": {
      "image/png": "[encoded data removed]",
      "text/plain": [
       "<Figure size 1008x360 with 2 Axes>"
      ]
     },
     "metadata": {
      "needs_background": "light"
     },
     "output_type": "display_data"
    }
   ],
   "source": [
    "fig, axs = plt.subplots(1, 2, figsize=(14, 5))\n",
    "\n",
    "sns.histplot(data=df, x=\"transactionAmount\", kde=True, hue = \"isFraud\", color=\"skyblue\", ax=axs[ 0], stat=\"probability\", common_norm=False)\n",
    "sns.histplot(data=df, x=\"transactionAmount_t\", kde=True, hue = \"isFraud\", color=\"olive\", ax=axs[1], stat=\"probability\", common_norm=False)\n",
    "\n",
    "axs[1].set(xlabel = 'transactionAmount Box-Cox Transformed')\n",
    "print('Skewness of transactionAmount: {0:0.2f}'.format(df.transactionAmount.skew()))\n",
    "print('Skewness of transactionAmount after Box-Cox transformation: {0:0.2f}'.format(df.transactionAmount_t.skew()))"
   ]
  },
  {
   "cell_type": "markdown",
   "metadata": {},
   "source": [
    "## Question 3: Data Wrangling - Duplicate Transactions\n",
    "\n",
    "- Can you programmatically identify reversed and multi-swipe transactions?\n",
    "\n",
    "\n",
    "- What total number of transactions and total dollar amount do you estimate for the reversed transactions? For the multi-swipe transactions? (please consider the first transaction to be \"normal\" and exclude it from the number of transaction and dollar amount counts)\n",
    "\n",
    "\n",
    "- Did you find anything interesting about either kind of transaction?"
   ]
  },
  {
   "cell_type": "markdown",
   "metadata": {},
   "source": [
    "#### Reversal Transactions: \n"
   ]
  },
  {
   "cell_type": "code",
   "execution_count": 25,
   "metadata": {},
   "outputs": [],
   "source": [
    "df= pd.concat( [pd.get_dummies(df['transactionType']), df], axis= 1)"
   ]
  },
  {
   "cell_type": "code",
   "execution_count": 26,
   "metadata": {},
   "outputs": [
    {
     "name": "stdout",
     "output_type": "stream",
     "text": [
      "Total transaction counts for reversed transactions:20303\n",
      "Total transaction amount for reversed transactions: 2821792.50\n"
     ]
    }
   ],
   "source": [
    "print(\"Total transaction counts for reversed transactions:{0:2d}\".format(df.loc[df['REVERSAL'] == 1]['transactionAmount'].count()))\n",
    "print(\"Total transaction amount for reversed transactions: {0:0.2f}\".format(df.loc[df['REVERSAL'] == 1]['transactionAmount'].sum()))"
   ]
  },
  {
   "cell_type": "markdown",
   "metadata": {},
   "source": [
    "#### Observations:\n",
    "* There are 20303 number of reversal transactions, with a total amount of 2821792.50 dollars.\n",
    "* currentBalance after a reversed transaction = currentBalance + (reversal) transactionAmount\n",
    "* availableMoney after a reversed transaction = availableMoney - (reversal) transactionAmount \n",
    "\n",
    "Common reasons for reversal transations:\n",
    "- The item ended up being sold out.\n",
    "- The customer canceled or returned the order.\n",
    "- The wrong amount or item was charged.\n",
    "- The transaction was duplicate.\n",
    "- The customer was trying to fraud."
   ]
  },
  {
   "cell_type": "markdown",
   "metadata": {},
   "source": [
    "#### Multi-swiped Transactions:"
   ]
  },
  {
   "cell_type": "markdown",
   "metadata": {},
   "source": [
    "Step to identify muti-swiped transactions\n",
    "* Sort the dataframe first by 'transactionDateTime' in ascending order. \n",
    "* Group the dataframe by 'customerId', 'merchantName', 'transactionAmount','cardLast4Digits'.\n",
    "* When a successive transaction within a same group happened in less than 5 minutes, I regard it as a multi swiped. "
   ]
  },
  {
   "cell_type": "code",
   "execution_count": 27,
   "metadata": {},
   "outputs": [
    {
     "data": {
      "text/plain": [
       "Index(['ADDRESS_VERIFICATION', 'PURCHASE', 'REVERSAL', 'missing',\n",
       "       'accountNumber', 'customerId', 'creditLimit', 'availableMoney',\n",
       "       'transactionDateTime', 'transactionAmount', 'merchantName',\n",
       "       'acqCountry', 'merchantCountryCode', 'posEntryMode', 'posConditionCode',\n",
       "       'merchantCategoryCode', 'currentExpDate', 'accountOpenDate',\n",
       "       'dateOfLastAddressChange', 'cardCVV', 'enteredCVV', 'cardLast4Digits',\n",
       "       'transactionType', 'currentBalance', 'cardPresent',\n",
       "       'expirationDateKeyInMatch', 'isFraud', 'transactionAmount_t'],\n",
       "      dtype='object')"
      ]
     },
     "execution_count": 27,
     "metadata": {},
     "output_type": "execute_result"
    }
   ],
   "source": [
    "df.columns"
   ]
  },
  {
   "cell_type": "code",
   "execution_count": 28,
   "metadata": {},
   "outputs": [],
   "source": [
    "# Notice that for ADDRESS_VERIFICATION, the transactionAmount is 0. We need to exclude this type.\n",
    "# Also notice that reversal transactions and multi-swiped transactions may share the same transaction amount, \n",
    "# but they affect the current balance differently. We also need to exclude the REVERSAL type.  \n",
    "# For a MISSING type, we cannot tell if it's a multi-swipe purchase or an immediate reversal. \n",
    "# Therefore I only consider the transaction type 'purchase' for multi_swipe.\n",
    "df_multi_swiped = df.loc[(df.transactionType == 'PURCHASE') ,['customerId', 'merchantName', 'transactionAmount','cardLast4Digits','transactionDateTime']]\n",
    "df_multi_swiped['multi_swiped'] = (df_multi_swiped.sort_values(['transactionDateTime'])                        \n",
    "                        .groupby(['customerId', 'merchantName', 'transactionAmount','cardLast4Digits'], sort = False)['transactionDateTime']\n",
    "                        .diff()\n",
    "                        .dt.total_seconds()\n",
    "                        .lt(300))                     \n"
   ]
  },
  {
   "cell_type": "code",
   "execution_count": 29,
   "metadata": {},
   "outputs": [
    {
     "name": "stdout",
     "output_type": "stream",
     "text": [
      "Total transaction counts for multi_swiped purchase within 5 minutes: 7449 \n",
      "Total transaction amount for multi_swiped purchase within 5 minutes: 1102920.99 \n"
     ]
    }
   ],
   "source": [
    "print(\"Total transaction counts for multi_swiped purchase within 5 minutes: {0:2d} \". format(df_multi_swiped[df_multi_swiped.multi_swiped == True]['transactionAmount'].count()))\n",
    "print(\"Total transaction amount for multi_swiped purchase within 5 minutes: {0:0.2f} \". format(df_multi_swiped[df_multi_swiped.multi_swiped == True]['transactionAmount'].sum()))"
   ]
  },
  {
   "cell_type": "markdown",
   "metadata": {},
   "source": [
    "#### Observations:\n",
    "- There are 7749 multi-swiped purchase within 5 minutes, with a total amount of 1102920.99  dollars.\n",
    "\n",
    "Common reasons for multi-swiped transactions:\n",
    "- The customer purchased the same item in a short span of time.\n",
    "- The pos machine had some errors.\n",
    "- It was a fraud.\n",
    "Since I belive that multi_swiped transactions can be a good indicator for fraud transctions, I will include this feature and merge it to the original dataframe."
   ]
  },
  {
   "cell_type": "code",
   "execution_count": 30,
   "metadata": {},
   "outputs": [],
   "source": [
    "df = pd.merge(df,df_multi_swiped,on=['customerId', 'merchantName', 'transactionAmount','cardLast4Digits',\n",
    "                                 'transactionDateTime'],\n",
    "                                            how='left').fillna(False)"
   ]
  },
  {
   "cell_type": "markdown",
   "metadata": {},
   "source": [
    "To analyze more about the duplicated transactions. I will look into the relationship of duplicated transactions with fraud and merchant categories."
   ]
  },
  {
   "cell_type": "code",
   "execution_count": 31,
   "metadata": {},
   "outputs": [
    {
     "data": {
      "text/plain": [
       "False    19966\n",
       "True       337\n",
       "Name: isFraud, dtype: int64"
      ]
     },
     "execution_count": 31,
     "metadata": {},
     "output_type": "execute_result"
    }
   ],
   "source": [
    "df.loc[df['REVERSAL']==1].isFraud.value_counts()"
   ]
  },
  {
   "cell_type": "code",
   "execution_count": 32,
   "metadata": {},
   "outputs": [
    {
     "data": {
      "text/plain": [
       "False    7321\n",
       "True      129\n",
       "Name: isFraud, dtype: int64"
      ]
     },
     "execution_count": 32,
     "metadata": {},
     "output_type": "execute_result"
    }
   ],
   "source": [
    " df.loc[df['multi_swiped']==True].isFraud.value_counts()"
   ]
  },
  {
   "cell_type": "code",
   "execution_count": 33,
   "metadata": {},
   "outputs": [
    {
     "name": "stdout",
     "output_type": "stream",
     "text": [
      "4.57% of the frauds are duplicated transactions\n"
     ]
    }
   ],
   "source": [
    "print('{0:0.2f}% of the frauds are duplicated transactions'.format((337+231)*100/len(df[df['isFraud']==True])))"
   ]
  },
  {
   "cell_type": "code",
   "execution_count": 34,
   "metadata": {},
   "outputs": [],
   "source": [
    "def cat_plot(y, hue, orient, data, name):\n",
    "    g =  sns.catplot(y = y, hue= hue, kind=\"count\",\n",
    "            palette=\"pastel\", edgecolor=\".6\",\n",
    "            data=data, height= 6, aspect= 1)\n",
    "    ax = g.facet_axis(0,0)\n",
    "    ax.set(title = 'Catplot of %s in %s'%(y,name) )\n",
    "    tot = len(data)\n",
    "    for p in ax.patches:\n",
    "        width = p.get_width() # get bar length\n",
    "        ax.text(width + 10,       # set the text at 1 unit right of the bar\n",
    "                p.get_y() + p.get_height() / 2, # get Y coordinate + X coordinate / 2\n",
    "                '{:1.2f}%'.format(width/tot*100), # set variable to display, 2 decimals\n",
    "                ha = 'left',   # horizontal alignment\n",
    "                va = 'center')  # vertical alignment\n",
    "    plt.show()\n"
   ]
  },
  {
   "cell_type": "code",
   "execution_count": 35,
   "metadata": {},
   "outputs": [
    {
     "data": {
      "image/png": "[encoded data removed]",
      "text/plain": [
       "<Figure size 493.25x432 with 1 Axes>"
      ]
     },
     "metadata": {
      "needs_background": "light"
     },
     "output_type": "display_data"
    },
    {
     "name": "stderr",
     "output_type": "stream",
     "text": [
      "posx and posy should be finite values\n",
      "posx and posy should be finite values\n"
     ]
    },
    {
     "data": {
      "image/png": "[encoded data removed]",
      "text/plain": [
       "<Figure size 493.25x432 with 1 Axes>"
      ]
     },
     "metadata": {
      "needs_background": "light"
     },
     "output_type": "display_data"
    },
    {
     "name": "stderr",
     "output_type": "stream",
     "text": [
      "posx and posy should be finite values\n",
      "posx and posy should be finite values\n",
      "posx and posy should be finite values\n",
      "posx and posy should be finite values\n",
      "posx and posy should be finite values\n",
      "posx and posy should be finite values\n",
      "posx and posy should be finite values\n",
      "posx and posy should be finite values\n",
      "posx and posy should be finite values\n",
      "posx and posy should be finite values\n",
      "posx and posy should be finite values\n",
      "posx and posy should be finite values\n"
     ]
    },
    {
     "data": {
      "image/png": "[encoded data removed]",
      "text/plain": [
       "<Figure size 493.25x432 with 1 Axes>"
      ]
     },
     "metadata": {
      "needs_background": "light"
     },
     "output_type": "display_data"
    }
   ],
   "source": [
    "import warnings\n",
    "with warnings.catch_warnings(): # Suppress warnings from the matthews_corrcoef function\n",
    "    warnings.simplefilter(\"ignore\")\n",
    "    cat_plot('merchantCategoryCode', 'isFraud','h',df[df['REVERSAL']== 1],'Reversal Transactions')\n",
    "    cat_plot('merchantCategoryCode', 'isFraud','h',df[df['multi_swiped']== True], 'Multi_swiped Transactions')\n",
    "    cat_plot('merchantCategoryCode', 'isFraud','h',df,'All transactions')\n",
    "\n"
   ]
  },
  {
   "cell_type": "markdown",
   "metadata": {},
   "source": [
    "\n",
    "#### Observations\n",
    "* 337 reversal transactions were frauds. \n",
    "* 231 multi_swiped transactions were frauds.\n",
    "* 4.57% of the frauds are duplicated transactions\n",
    "* The top 3 categories for multi-swiped, reversal as well as all transactions are online-retails, fastfood and entertainment.\n",
    "* The fraud rate in online-retails are similar for multi-swiped (0.68%), reversal(0.65%) and all transactions(0.63%).\n",
    "* For fast-food, multi-swiped has the highest fraud rate (0.23%) among the three transaction types.  \n",
    "* Otherwise the fraud rate are very similar."
   ]
  },
  {
   "cell_type": "markdown",
   "metadata": {},
   "source": [
    "## Feature Engineering"
   ]
  },
  {
   "cell_type": "markdown",
   "metadata": {},
   "source": [
    "Here I listed all the feature engineering items in this project. Some of them have been done in previous parts.\n",
    "\n",
    "- Change an account related date to days from the transaction date.\n",
    "- Add dummy variables to indicate the specific weekday, hour, day and month. \n",
    "- Add a dummy variable to indiate holidays.\n",
    "- Create a dummy variable to indiate multiswipe transactions.\n",
    "- Create a dummy to see if the entered CVV matched the card CVV.\n",
    "- Transform right skewed data (done for transactionAmount).\n",
    "- Aggregations: total count and dollar amount of transactions within the past 3 days (done).\n",
    "- One hot encoding on categorical data with a few categories.\n",
    "- Mean (target) encoding on merchant names, merchant categories, customer ID, account number and card last 4 digits.\n",
    "\n",
    "\n"
   ]
  },
  {
   "cell_type": "markdown",
   "metadata": {},
   "source": [
    "#### Date transfromation"
   ]
  },
  {
   "cell_type": "code",
   "execution_count": 36,
   "metadata": {},
   "outputs": [],
   "source": [
    "# Change an account related date to days from the transaction date\n",
    "from datetime import date\n",
    "\n",
    "df['daysFromLastAddressChange'] = (df['transactionDateTime'] - df['dateOfLastAddressChange']).dt.days\n",
    "df['daysFromCurrentExpDate'] = (df['currentExpDate'] - df['transactionDateTime']).dt.days\n",
    "df['daysFromAccountOpenDate'] = (df['transactionDateTime'] - df['accountOpenDate']).dt.days"
   ]
  },
  {
   "cell_type": "code",
   "execution_count": 37,
   "metadata": {},
   "outputs": [],
   "source": [
    "#Add dummy variables to indicate the specific weekday, hour, day and month\n",
    "df['weekday'] = df['transactionDateTime'].dt.weekday\n",
    "df['hour'] = df['transactionDateTime'].dt.hour\n",
    "df['day'] = df['transactionDateTime'].dt.day\n",
    "df['month'] = df['transactionDateTime'].dt.month"
   ]
  },
  {
   "cell_type": "code",
   "execution_count": 38,
   "metadata": {},
   "outputs": [],
   "source": [
    "# holiday\n",
    "from pandas.tseries.holiday import USFederalHolidayCalendar as calendar\n",
    "\n",
    "cal = calendar()\n",
    "holidays = cal.holidays(start=df['transactionDateTime'].min(), end=df['transactionDateTime'].max())\n",
    "df['transaction_holiday'] = df['transactionDateTime'].isin(holidays)\n"
   ]
  },
  {
   "cell_type": "code",
   "execution_count": 39,
   "metadata": {},
   "outputs": [
    {
     "data": {
      "image/png": "[encoded data removed]",
      "text/plain": [
       "<Figure size 493.25x432 with 1 Axes>"
      ]
     },
     "metadata": {
      "needs_background": "light"
     },
     "output_type": "display_data"
    }
   ],
   "source": [
    "cat_plot('hour', 'isFraud','h',df,'all transactions')\n"
   ]
  },
  {
   "cell_type": "markdown",
   "metadata": {},
   "source": [
    "For this sample, frauds didn't happen in any particular hour of a day. I would assume that normal transactions happen more often during business hours, and frauds happen more often in other times. Maybe the timezones are different."
   ]
  },
  {
   "cell_type": "markdown",
   "metadata": {},
   "source": [
    "\n",
    "#### Transform CVV"
   ]
  },
  {
   "cell_type": "code",
   "execution_count": 40,
   "metadata": {},
   "outputs": [],
   "source": [
    "# Create a dummy to see if the entered CVV matched the card CVV.\n",
    "df['matchedCVV'] = df['cardCVV']==df['enteredCVV']"
   ]
  },
  {
   "cell_type": "code",
   "execution_count": 41,
   "metadata": {},
   "outputs": [],
   "source": [
    "df.drop(columns = ['cardCVV', 'enteredCVV'], axis = 1, inplace = True)\n"
   ]
  },
  {
   "cell_type": "markdown",
   "metadata": {},
   "source": [
    "#### Sum of transaction amount in the last 24 hrs\n",
    "\n",
    "Past transaction behaviors could be a good indicator for fraud or not. "
   ]
  },
  {
   "cell_type": "code",
   "execution_count": 42,
   "metadata": {
    "scrolled": true
   },
   "outputs": [],
   "source": [
    "df1 = df.groupby(['accountNumber','transactionDateTime'], as_index=False)['transactionAmount'].sum()\n",
    "trx1 = (df.set_index('transactionDateTime')\n",
    "             .groupby('accountNumber')['transactionAmount']\n",
    "             .rolling('1D')\n",
    "             .sum()\n",
    "             .groupby('accountNumber')\n",
    "             .shift()\n",
    "             .rename('trx_last_1_day')\n",
    "         )   \n"
   ]
  },
  {
   "cell_type": "code",
   "execution_count": 43,
   "metadata": {
    "scrolled": true
   },
   "outputs": [],
   "source": [
    "df1 = df1.join(trx1, on=['accountNumber','transactionDateTime'])\n"
   ]
  },
  {
   "cell_type": "markdown",
   "metadata": {},
   "source": [
    "#### Count of transactions in the last 24 hrs"
   ]
  },
  {
   "cell_type": "code",
   "execution_count": 44,
   "metadata": {},
   "outputs": [],
   "source": [
    "df2 = df.groupby(['accountNumber','transactionDateTime'], as_index=False).count()\n",
    "trx2 = (df2.set_index('transactionDateTime')\n",
    "             .groupby('accountNumber')['transactionAmount']\n",
    "             .rolling('1D')\n",
    "             .count()\n",
    "             .groupby('accountNumber')\n",
    "             .shift()\n",
    "             .rename('trx_count_last_1_day')\n",
    "         )      \n"
   ]
  },
  {
   "cell_type": "code",
   "execution_count": 45,
   "metadata": {},
   "outputs": [],
   "source": [
    "df1 = df1.join(trx2, on=['accountNumber','transactionDateTime'])"
   ]
  },
  {
   "cell_type": "code",
   "execution_count": 46,
   "metadata": {},
   "outputs": [],
   "source": [
    "# add the aggragated data to the dataframe\n",
    "df = pd.merge(df,df1,on=['transactionAmount','accountNumber',\n",
    "                                 'transactionDateTime'],\n",
    "                                            how='left')\n"
   ]
  },
  {
   "cell_type": "code",
   "execution_count": 47,
   "metadata": {},
   "outputs": [],
   "source": [
    "fill_mode = lambda col: col.fillna(int(col.mode()[0]))\n",
    "df[['trx_last_1_day', 'trx_count_last_1_day'] ]= df[['trx_last_1_day', 'trx_count_last_1_day']].apply(fill_mode, axis=0)"
   ]
  },
  {
   "cell_type": "code",
   "execution_count": 48,
   "metadata": {},
   "outputs": [],
   "source": [
    "df.drop(columns = ['trx_last_1_day', 'trx_count_last_1_day'], inplace = True)"
   ]
  },
  {
   "cell_type": "markdown",
   "metadata": {},
   "source": [
    "#### Box-cox transformation"
   ]
  },
  {
   "cell_type": "code",
   "execution_count": 49,
   "metadata": {},
   "outputs": [],
   "source": [
    "import scipy as sp\n",
    "df['availableMoney_t'] = (df['availableMoney']) + 1600\n",
    "df['availableMoney_t'], maxlog, (min_ci, max_ci) = sp.stats.boxcox(df['availableMoney_t'], alpha=0.01)"
   ]
  },
  {
   "cell_type": "code",
   "execution_count": 50,
   "metadata": {},
   "outputs": [
    {
     "name": "stdout",
     "output_type": "stream",
     "text": [
      "Skewness of availableMoney: 2.09\n",
      "Skewness of availableMoney after Box-Cox transformation: 0.09\n"
     ]
    },
    {
     "data": {
      "image/png": "[encoded data removed]",
      "text/plain": [
       "<Figure size 1008x360 with 2 Axes>"
      ]
     },
     "metadata": {
      "needs_background": "light"
     },
     "output_type": "display_data"
    }
   ],
   "source": [
    "fig, axs = plt.subplots(1, 2, figsize=(14, 5))\n",
    "\n",
    "sns.histplot(data=df, x=\"availableMoney\", kde=True, hue = \"isFraud\", color=\"skyblue\", ax=axs[ 0], stat=\"probability\", common_norm=False)\n",
    "sns.histplot(data=df, x=\"availableMoney_t\", kde=True, hue = \"isFraud\", color=\"olive\", ax=axs[1], stat=\"probability\", common_norm=False)\n",
    "\n",
    "axs[1].set(xlabel = 'availableMoney Box-Cox Transformed')\n",
    "print('Skewness of availableMoney: {0:0.2f}'.format(df.transactionAmount.skew()))\n",
    "print('Skewness of availableMoney after Box-Cox transformation: {0:0.2f}'.format(df.availableMoney_t.skew()))"
   ]
  },
  {
   "cell_type": "markdown",
   "metadata": {},
   "source": [
    "#### One Hot Encoding"
   ]
  },
  {
   "cell_type": "code",
   "execution_count": 51,
   "metadata": {},
   "outputs": [],
   "source": [
    "dummies = ['posConditionCode', 'merchantCountryCode', 'acqCountry','merchantCategoryCode'\n",
    "           , 'posEntryMode']\n",
    "# already encoded transactionType earlier"
   ]
  },
  {
   "cell_type": "code",
   "execution_count": 52,
   "metadata": {},
   "outputs": [],
   "source": [
    "df_dummy = pd.get_dummies(df[dummies])\n"
   ]
  },
  {
   "cell_type": "code",
   "execution_count": 53,
   "metadata": {},
   "outputs": [
    {
     "name": "stdout",
     "output_type": "stream",
     "text": [
      "(786363, 66)\n"
     ]
    }
   ],
   "source": [
    "dates = ['dateOfLastAddressChange',\n",
    " 'currentExpDate',\n",
    " 'accountOpenDate',\n",
    " 'transactionDateTime']\n",
    "non_encoding = list((set(df.columns)) - set(dummies) - set(dates) - {'transactionType'})\n",
    "df_all = pd.concat([df_dummy, df[non_encoding]], axis=1)\n",
    "print(df_all.shape)\n"
   ]
  },
  {
   "cell_type": "code",
   "execution_count": 54,
   "metadata": {},
   "outputs": [],
   "source": [
    "df_all.to_csv('df_all.csv', index=False)"
   ]
  },
  {
   "cell_type": "code",
   "execution_count": 55,
   "metadata": {},
   "outputs": [],
   "source": [
    "df_all = pd.read_csv('df_all.csv')"
   ]
  },
  {
   "cell_type": "markdown",
   "metadata": {},
   "source": [
    "#### Mean (Target) Encoding\n",
    "1. Group by the merchantName and obtain aggregated sum over the “isFraud” variable. \n",
    "2. Group by the merchantName and obtain aggregated count over the “isFraud” variable\n",
    "3. Divide the step 1 / step 2 results and join it back.\n",
    "\n",
    "I first encoded the whole sample in one step, then I realized that it's cherry picking, as I leak the fraud information in this variable. I should save the encoding map from the training set. In the test set, I refer to the encoding map, or use the global mean from the training set if it's a brand new new merchantName. \n",
    "\n",
    "I am using a simple mean encoding. Giving more time, I will add smoothing to avoid overfitting, as well as other encoding. "
   ]
  },
  {
   "cell_type": "code",
   "execution_count": 56,
   "metadata": {},
   "outputs": [
    {
     "data": {
      "text/plain": [
       "0"
      ]
     },
     "execution_count": 56,
     "metadata": {},
     "output_type": "execute_result"
    }
   ],
   "source": [
    "sum(df_all['customerId'] != df_all['accountNumber'])"
   ]
  },
  {
   "cell_type": "markdown",
   "metadata": {},
   "source": [
    "CustomerId and accountNumber are identical, therefore we only need to keep one of them. Let me keep accountNumber"
   ]
  },
  {
   "cell_type": "code",
   "execution_count": 57,
   "metadata": {},
   "outputs": [],
   "source": [
    "#df_all.drop('customerId', axis = 1, inplace = True)\n",
    "features = list(set(df_all.columns) - set(['isFraud','transactionAmount_t']))\n",
    "X = df_all[features]\n",
    "Y = df_all['isFraud']"
   ]
  },
  {
   "cell_type": "code",
   "execution_count": 58,
   "metadata": {},
   "outputs": [],
   "source": [
    "from sklearn.model_selection import train_test_split\n",
    "\n",
    "X_train, X_test, y_train, y_test = train_test_split(X, Y, stratify=Y, test_size=0.25)"
   ]
  },
  {
   "cell_type": "code",
   "execution_count": 59,
   "metadata": {},
   "outputs": [],
   "source": [
    "def encode_target_naive(df_train_naive, df_test_naive, cats):\n",
    "    default = df_train_naive['isFraud'].mean()\n",
    "    for v in cats:  \n",
    "        encod_map = df_train.groupby(v)['isFraud'].mean()\n",
    "        df_train_naive.loc[:, v] = df_train_naive[v].map(encod_map).fillna(default)\n",
    "        df_test_naive.loc[:, v] = df_test_naive[v].map(encod_map).fillna(default)\n",
    "    return df_train_naive, df_test_naive"
   ]
  },
  {
   "cell_type": "code",
   "execution_count": 60,
   "metadata": {},
   "outputs": [],
   "source": [
    "df_train = pd.concat([X_train,y_train], axis = 1)\n",
    "df_test =  pd.concat([X_test,y_test], axis = 1)\n",
    "df_train, df_test= encode_target_naive(df_train,df_test, ['merchantName','accountNumber','cardLast4Digits'])\n",
    "X_train = df_train[features]\n",
    "y_train = df_train['isFraud']\n",
    "X_test = df_test[features]\n",
    "y_test = df_test['isFraud']\n",
    "X_train, X_valid, y_train, y_valid = train_test_split(X_train, y_train, stratify=y_train, test_size=0.25)"
   ]
  },
  {
   "cell_type": "markdown",
   "metadata": {},
   "source": [
    "## Question 4. Model:"
   ]
  },
  {
   "cell_type": "markdown",
   "metadata": {},
   "source": [
    "### Unbalanced data\n",
    "We have much more observations for non-fraud transactions than fraud transactions. To deal with this, I considered three aspects.\n",
    "1. Sampling technique like oversampling and downsampling.\n",
    "2. changing metrics ,not accuracy but precision, recall and F2 score.\n",
    "3. Models that adapt to unbalanced data like boosting. \n",
    " \n",
    "    "
   ]
  },
  {
   "cell_type": "markdown",
   "metadata": {},
   "source": [
    "#### Undersample the majority class and oversample the minority class."
   ]
  },
  {
   "cell_type": "code",
   "execution_count": 61,
   "metadata": {},
   "outputs": [],
   "source": [
    "import pandas as pd\n",
    "from imblearn.pipeline import make_pipeline\n",
    "from imblearn.over_sampling import SMOTE\n",
    "from imblearn.under_sampling import NearMiss, RandomUnderSampler,EditedNearestNeighbours\n",
    "pipe = make_pipeline(\n",
    "    SMOTE(sampling_strategy=0.1, random_state =  42),\n",
    "    RandomUnderSampler(sampling_strategy = 1, random_state = 42))\n",
    "\n",
    "X_train_res, y_train_res = pipe.fit_resample(X_train, y_train)"
   ]
  },
  {
   "cell_type": "code",
   "execution_count": 62,
   "metadata": {},
   "outputs": [
    {
     "name": "stdout",
     "output_type": "stream",
     "text": [
      "Counter({False: 43534, True: 43534})\n"
     ]
    }
   ],
   "source": [
    "import collections\n",
    "counter = collections.Counter(y_train_res)\n",
    "print(counter)"
   ]
  },
  {
   "cell_type": "markdown",
   "metadata": {},
   "source": [
    "### Metrics\n",
    "We need to balance the cost of credit card frauds and the inconvience to the customers for false alarms. In this case, false negative has a higher cost. Although generally effective, the ROC Curve and ROC AUC can be over-optimistic when the number of observations in the minority class is small. Based on the two reasons, I will choose F2, recall and precision as the metrics. \n",
    "\n",
    "- Recall tells the percentage of Fraud cases that we caught\n",
    "- Precision tells the percentage of Fraud predictions that were correct\n",
    "- F2 put more weight on recall than precision"
   ]
  },
  {
   "cell_type": "markdown",
   "metadata": {},
   "source": [
    "### Logistic Regression and Support Vector Classifier with Stochastic Gradient Decent\n",
    "The class SGDClassifier implements multiple linear classifiers with SGD training, which makes learning much faster on large datasets."
   ]
  },
  {
   "cell_type": "code",
   "execution_count": 63,
   "metadata": {},
   "outputs": [],
   "source": [
    "from sklearn.pipeline import Pipeline\n",
    "from sklearn.preprocessing import StandardScaler\n",
    "from sklearn.linear_model import SGDClassifier"
   ]
  },
  {
   "cell_type": "code",
   "execution_count": 64,
   "metadata": {},
   "outputs": [],
   "source": [
    "pipeline_sgd = Pipeline([\n",
    "    ('scaler', StandardScaler(copy=False)),\n",
    "    ('model', SGDClassifier(max_iter=1000, tol=1e-3, random_state=1, warm_start=True, class_weight = 'balanced'))\n",
    "])"
   ]
  },
  {
   "cell_type": "markdown",
   "metadata": {},
   "source": [
    "We'll conduct a grid search over several hyperparameter choices. The search uses 5-fold cross-validation with stratified folds. The type of linear classifier is chosen with the loss hyperparameter. For a linear SVC we set loss = 'hinge', and for logistic regression we set loss = 'log'.\n",
    "\n",
    "Set the hyperparameter grids to search over, one grid for the linear SVC and one for logistic regression:"
   ]
  },
  {
   "cell_type": "code",
   "execution_count": 65,
   "metadata": {},
   "outputs": [],
   "source": [
    "param_grid_sgd = [{\n",
    "    'model__loss': ['log'], # logistic regression\n",
    "    'model__penalty': ['l1', 'l2'],\n",
    "    'model__alpha': np.logspace(start=-3, stop=3, num=20)\n",
    "}\n",
    "    , {\n",
    "    'model__loss': ['hinge'], # SVC\n",
    "    'model__alpha': np.logspace(start=-3, stop=3, num=20),\n",
    "    'model__class_weight': [None, 'balanced']\n",
    "}]"
   ]
  },
  {
   "cell_type": "markdown",
   "metadata": {},
   "source": [
    "The grid search, implemented by GridSearchCV, uses StratifiedKFold with 5 folds for the train/validation splits. We'll use matthews_corrcoef (the Matthews correlation coefficient, MCC) as our scoring metric."
   ]
  },
  {
   "cell_type": "code",
   "execution_count": 66,
   "metadata": {},
   "outputs": [],
   "source": [
    "from sklearn.model_selection import GridSearchCV\n",
    "from sklearn.metrics import make_scorer, matthews_corrcoef, fbeta_score, auc"
   ]
  },
  {
   "cell_type": "code",
   "execution_count": 67,
   "metadata": {},
   "outputs": [],
   "source": [
    "fbeta_scorer = make_scorer(fbeta_score, beta= 2)\n",
    "\n",
    "grid_sgd = GridSearchCV(estimator=pipeline_sgd, param_grid=param_grid_sgd, scoring=fbeta_scorer, n_jobs=-1, pre_dispatch='2*n_jobs', cv=5, verbose=1, return_train_score=False)"
   ]
  },
  {
   "cell_type": "code",
   "execution_count": 68,
   "metadata": {
    "scrolled": false
   },
   "outputs": [
    {
     "name": "stdout",
     "output_type": "stream",
     "text": [
      "Fitting 5 folds for each of 80 candidates, totalling 400 fits\n"
     ]
    }
   ],
   "source": [
    "import warnings\n",
    "with warnings.catch_warnings(): # Suppress warnings from the matthews_corrcoef function\n",
    "    warnings.simplefilter(\"ignore\")\n",
    "    grid_sgd.fit(X_train_res, y_train_res)"
   ]
  },
  {
   "cell_type": "code",
   "execution_count": 69,
   "metadata": {},
   "outputs": [
    {
     "data": {
      "text/plain": [
       "0.8990648039969905"
      ]
     },
     "execution_count": 69,
     "metadata": {},
     "output_type": "execute_result"
    }
   ],
   "source": [
    "grid_sgd.best_score_"
   ]
  },
  {
   "cell_type": "code",
   "execution_count": 70,
   "metadata": {},
   "outputs": [
    {
     "data": {
      "text/plain": [
       "{'model__alpha': 2.976351441631316,\n",
       " 'model__loss': 'log',\n",
       " 'model__penalty': 'l2'}"
      ]
     },
     "execution_count": 70,
     "metadata": {},
     "output_type": "execute_result"
    }
   ],
   "source": [
    "grid_sgd.best_params_\n"
   ]
  },
  {
   "cell_type": "code",
   "execution_count": 71,
   "metadata": {},
   "outputs": [],
   "source": [
    "from sklearn.metrics import precision_recall_curve\n",
    "from sklearn.metrics import plot_precision_recall_curve\n",
    "from sklearn.metrics import average_precision_score \n",
    "from sklearn import metrics\n",
    "from matplotlib import pyplot\n",
    "def evaluation(model, name, x_test, y_test, threshold):\n",
    "\n",
    "    \n",
    "    try:\n",
    "        y_prob = model.predict_proba(x_test)[:,1] \n",
    "    except:\n",
    "        y_prob = model.predict(x_test)\n",
    "    y_pred_default = model.predict(x_test)\n",
    "    y_pred = (y_prob >= threshold).astype(bool)\n",
    "    \n",
    "    print(\"Precision:\", metrics.precision_score(y_test, y_pred))\n",
    "    print(\"Recall:\", metrics.recall_score(y_test, y_pred))\n",
    "    print(\"F2:\", metrics.fbeta_score(y_test, y_pred, beta = 2))\n",
    "    \n",
    "    print('*********************************************************************************')\n",
    "     # PR curve\n",
    "#     disp = plot_precision_recall_curve(model, xtest, ytest)\n",
    "#     disp.ax_.set_title('2-class Precision-Recall curve')\n",
    "\n",
    "    # calculate precision and recall for each threshold\n",
    "    lr_precision, lr_recall, _ = precision_recall_curve(y_test, y_prob)\n",
    "    # plot the precision-recall curves\n",
    "    no_skill = len(y_test[y_test==1]) / len(y_test)\n",
    "    pyplot.plot([0, 1], [no_skill, no_skill], linestyle='--', label='No Skill')\n",
    "    pyplot.plot(lr_recall, lr_precision, marker='.', label= name)\n",
    "    # axis labels\n",
    "    pyplot.xlabel('Recall')\n",
    "    pyplot.ylabel('Precision')\n",
    "    # show the legend\n",
    "    pyplot.legend()\n",
    "\n",
    "\n",
    "    #Print Confusion Matrix\n",
    "    plt.figure()\n",
    "    cm = metrics.confusion_matrix(y_test, y_pred)\n",
    "    labels = ['No Fraud', 'Fraud']\n",
    "    plt.figure(figsize=(8,6))\n",
    "    sns.heatmap(cm, xticklabels = labels, yticklabels = labels, annot = True, fmt='d', cmap=\"Blues\", vmin = 0.2);\n",
    "    plt.title('Confusion Matrix')\n",
    "    plt.ylabel('True Class')\n",
    "    plt.xlabel('Predicted Class')\n",
    "    plt.show()"
   ]
  },
  {
   "cell_type": "code",
   "execution_count": 72,
   "metadata": {},
   "outputs": [],
   "source": [
    "from sklearn.metrics import confusion_matrix, classification_report, matthews_corrcoef, cohen_kappa_score, accuracy_score, average_precision_score, roc_auc_score"
   ]
  },
  {
   "cell_type": "code",
   "execution_count": 73,
   "metadata": {
    "scrolled": true
   },
   "outputs": [
    {
     "name": "stdout",
     "output_type": "stream",
     "text": [
      "Precision: 0.035812846946867566\n",
      "Recall: 0.7274484536082474\n",
      "F2: 0.14960379508652905\n",
      "*********************************************************************************\n"
     ]
    },
    {
     "data": {
      "image/png": "[encoded data removed]",
      "text/plain": [
       "<Figure size 432x288 with 1 Axes>"
      ]
     },
     "metadata": {
      "needs_background": "light"
     },
     "output_type": "display_data"
    },
    {
     "data": {
      "text/plain": [
       "<Figure size 432x288 with 0 Axes>"
      ]
     },
     "metadata": {},
     "output_type": "display_data"
    },
    {
     "data": {
      "image/png": "[encoded data removed]",
      "text/plain": [
       "<Figure size 576x432 with 2 Axes>"
      ]
     },
     "metadata": {
      "needs_background": "light"
     },
     "output_type": "display_data"
    }
   ],
   "source": [
    "evaluation(grid_sgd, 'Logistic', X_test, y_test,0.5)"
   ]
  },
  {
   "cell_type": "markdown",
   "metadata": {},
   "source": [
    "#### Observations\n",
    "* The gradient decent classifier chose Logistic Regression over SVC. \n",
    "* What percent of the positive cases did I catch : the \"recall\" is 76.8%\n",
    "* What percent of positive predictions were correct : the \"precision\" is 3.49%\n",
    "* Logistic regression caught a fair amount of fraud, but it gave lots of false alarm, creating frictions for the card users. \n"
   ]
  },
  {
   "cell_type": "markdown",
   "metadata": {},
   "source": [
    "### Light Gradient Boost Machine\n",
    "Boosting combines weak learners to create strong learners. LightGBM is a fast, distributed boosting method. "
   ]
  },
  {
   "cell_type": "code",
   "execution_count": 74,
   "metadata": {},
   "outputs": [
    {
     "name": "stdout",
     "output_type": "stream",
     "text": [
      "Fitting 4 folds for each of 24 candidates, totalling 96 fits\n",
      "{'boosting_type': 'gbdt', 'colsample_bytree': 0.65, 'learning_rate': 0.07, 'n_estimators': 16, 'num_leaves': 27, 'objective': 'binary', 'random_state': 501, 'subsample': 0.7}\n",
      "0.8777966646758855\n",
      "Fitting with params: \n",
      "{'boosting_type': 'gbdt', 'max_depth': -1, 'objective': 'binary', 'nthread': 5, 'num_leaves': 27, 'learning_rate': 0.07, 'max_bin': 512, 'subsample_for_bin': 200, 'subsample': 0.7, 'subsample_freq': 1, 'colsample_bytree': 0.65, 'reg_alpha': 1.2, 'reg_lambda': 1.2, 'min_split_gain': 0.5, 'min_child_weight': 1, 'min_child_samples': 5, 'scale_pos_weight': 1, 'num_class': 1, 'metric': 'binary_error'}\n",
      "[LightGBM] [Warning] Using too small ``bin_construct_sample_cnt`` may encounter unexpected errors and poor accuracy.\n",
      "[LightGBM] [Warning] Find whitespaces in feature_names, replace with underlines\n",
      "[LightGBM] [Info] Number of positive: 43534, number of negative: 43534\n",
      "[LightGBM] [Warning] Auto-choosing row-wise multi-threading, the overhead of testing was 0.005708 seconds.\n",
      "You can set `force_row_wise=true` to remove the overhead.\n",
      "And if memory is not enough, you can set `force_col_wise=true`.\n",
      "[LightGBM] [Info] Total Bins 851\n",
      "[LightGBM] [Info] Number of data points in the train set: 87068, number of used features: 50\n",
      "[LightGBM] [Info] [binary:BoostFromScore]: pavg=0.500000 -> initscore=0.000000\n"
     ]
    }
   ],
   "source": [
    "import lightgbm as lgb\n",
    "train_y, test_y = y_train_res, y_test\n",
    "train_x, test_x = X_train_res, X_test\n",
    "\n",
    "train_data=lgb.Dataset(train_x, label=train_y)\n",
    "# customed defined metrics,using F2\n",
    "def lgb_f2_score(y_hat, data):\n",
    "    y_true = data.get_label()\n",
    "    y_hat = np.round(y_hat) \n",
    "    return 'f2', fbeta_score(y_true, y_hat, beta = 2), True\n",
    "\n",
    "#Select Hyper-Parameters\n",
    "\n",
    "params = {'boosting_type': 'gbdt',\n",
    "          'max_depth' : -1,\n",
    "          'objective': 'binary',\n",
    "          'nthread': 5,\n",
    "          'num_leaves': 64,\n",
    "          'learning_rate': 0.07,\n",
    "          'max_bin': 512,\n",
    "          'subsample_for_bin': 200,\n",
    "          'subsample': 1,\n",
    "          'subsample_freq': 1,\n",
    "          'colsample_bytree': 0.8,\n",
    "          'reg_alpha': 1.2,\n",
    "          'reg_lambda': 1.2,\n",
    "          'min_split_gain': 0.5,\n",
    "          'min_child_weight': 1,\n",
    "          'min_child_samples': 5,\n",
    "          'scale_pos_weight': 1,\n",
    "          'num_class' : 1,\n",
    "          'metric' : 'binary_error'\n",
    "          }\n",
    "\n",
    "# Create parameters to search\n",
    "gridParams = {'learning_rate': [0.07],\n",
    "              'n_estimators': [8,16],\n",
    "              'num_leaves': [20, 24, 27],\n",
    "              'boosting_type' : ['gbdt'],\n",
    "              'objective' : ['binary'],\n",
    "              'random_state' : [501], \n",
    "              'colsample_bytree' : [0.64, 0.65],\n",
    "              'subsample' : [0.7,0.75],\n",
    "              #'reg_alpha' : [1, 1.2],\n",
    "              #'reg_lambda' : [ 1.2, 1.4],\n",
    "              }\n",
    "\n",
    "# Create classifier to use\n",
    "mdl = lgb.LGBMClassifier(boosting_type= 'gbdt',\n",
    "          objective = 'binary',\n",
    "          n_jobs = 5, \n",
    "          silent = True,\n",
    "          max_depth = params['max_depth'],\n",
    "          max_bin = params['max_bin'],\n",
    "          subsample_for_bin = params['subsample_for_bin'],\n",
    "          subsample = params['subsample'],\n",
    "          subsample_freq = params['subsample_freq'],\n",
    "          min_split_gain = params['min_split_gain'],\n",
    "          min_child_weight = params['min_child_weight'],\n",
    "          min_child_samples = params['min_child_samples'],\n",
    "          scale_pos_weight = params['scale_pos_weight'])\n",
    "\n",
    "# View the default model params:\n",
    "mdl.get_params().keys()\n",
    "\n",
    "# Create the grid\n",
    "grid = GridSearchCV(mdl, gridParams, verbose=2, cv=4, n_jobs=-1)\n",
    "\n",
    "# Run the grid\n",
    "grid.fit(train_x, train_y)\n",
    "\n",
    "# Print the best parameters found\n",
    "print(grid.best_params_)\n",
    "print(grid.best_score_)\n",
    "\n",
    "# Using parameters already set above, replace in the best from the grid search\n",
    "params['colsample_bytree'] = grid.best_params_['colsample_bytree']\n",
    "params['learning_rate'] = grid.best_params_['learning_rate']\n",
    "# params['max_bin'] = grid.best_params_['max_bin']\n",
    "params['num_leaves'] = grid.best_params_['num_leaves']\n",
    "#params['reg_alpha'] = grid.best_params_['reg_alpha']\n",
    "#params['reg_lambda'] = grid.best_params_['reg_lambda']\n",
    "params['subsample'] = grid.best_params_['subsample']\n",
    "# params['subsample_for_bin'] = grid.best_params_['subsample_for_bin']\n",
    "\n",
    "print('Fitting with params: ')\n",
    "print(params)\n",
    "\n",
    "#Train model on selected parameters and number of iterations\n",
    "lgbm = lgb.train(params,\n",
    "                 train_data,\n",
    "                 400,\n",
    "                 #early_stopping_rounds= 40,\n",
    "                 verbose_eval= 4\n",
    "                 )\n",
    "\n",
    "\n",
    "\n"
   ]
  },
  {
   "cell_type": "code",
   "execution_count": 75,
   "metadata": {},
   "outputs": [
    {
     "name": "stdout",
     "output_type": "stream",
     "text": [
      "Precision: 0.03967193709309208\n",
      "Recall: 0.7557989690721649\n",
      "F2: 0.16393900853936355\n",
      "*********************************************************************************\n"
     ]
    },
    {
     "data": {
      "image/png": "[encoded data removed]",
      "text/plain": [
       "<Figure size 432x288 with 1 Axes>"
      ]
     },
     "metadata": {
      "needs_background": "light"
     },
     "output_type": "display_data"
    },
    {
     "data": {
      "text/plain": [
       "<Figure size 432x288 with 0 Axes>"
      ]
     },
     "metadata": {},
     "output_type": "display_data"
    },
    {
     "data": {
      "image/png": "[encoded data removed]",
      "text/plain": [
       "<Figure size 576x432 with 2 Axes>"
      ]
     },
     "metadata": {
      "needs_background": "light"
     },
     "output_type": "display_data"
    }
   ],
   "source": [
    "evaluation(lgbm, 'LightGBM', X_test, y_test,0.1)"
   ]
  },
  {
   "cell_type": "markdown",
   "metadata": {},
   "source": [
    "#### Feature Importance"
   ]
  },
  {
   "cell_type": "code",
   "execution_count": 76,
   "metadata": {},
   "outputs": [
    {
     "data": {
      "text/plain": [
       "<matplotlib.axes._subplots.AxesSubplot at 0x1fa8cec7e80>"
      ]
     },
     "execution_count": 76,
     "metadata": {},
     "output_type": "execute_result"
    },
    {
     "data": {
      "image/png": "[encoded data removed]",
      "text/plain": [
       "<Figure size 432x288 with 1 Axes>"
      ]
     },
     "metadata": {
      "needs_background": "light"
     },
     "output_type": "display_data"
    }
   ],
   "source": [
    "#Plot Variable Importances\n",
    "lgb.plot_importance(lgbm, max_num_features=21, importance_type='split')"
   ]
  },
  {
   "cell_type": "markdown",
   "metadata": {},
   "source": [
    "#### Observations\n",
    "* Feature Engineering and Resampling seem to did most of the work. Both Logistic and LightGBM give similar fraud prediction performance. They caught about 76% of the Frauds. But among the fraud alarms, only about 4% are correct. \n",
    "* For credit card frauds, we need to balance the loss of frauds and the inconvenience of faulse alarms. Since the loss of frauds is more important, we weight a high recall more than a high precision.\n",
    "* From the feature importance figure, we can see that merchant names and card or account information are good predictors. We can infer that some merchant and customers are more vulnerable to frauds. For instance if someone's personal information was stolen, there might be multiple frauds on his account. Or some stores are less stricted in verifing identity when facing potential frauds. \n",
    "* Both of the aggregation features are quite important.  "
   ]
  },
  {
   "cell_type": "markdown",
   "metadata": {},
   "source": [
    "#### If I have more time, I will:\n",
    "* Dig more into feature:\n",
    "- Information of last transaction: time since last transaction, previous amount of the transaction, previous location of the transaction.\n",
    "- Transaction aggregation: group the transactions made during the last given humber of hours, first by cardID, then by transactionType, merchantCategoryCode, merchantCountryCode. A set of different time frame could be 1,3,6,12,18,24,72 and 168 h. Then I will calculate again the number of transactions and the total amount spent on those transactions.\n",
    "- A binary feature if a new transaction time is within a certain confidence interval range using the periodic normal distribution. \n",
    "- A binary feature if a new transaction time is with in a certain confidence interval of the time of the previous transactions, say within previous week.\n",
    "* Read some literatue and try more models.\n",
    "* Fine tune models."
   ]
  },
  {
   "cell_type": "markdown",
   "metadata": {},
   "source": [
    "#### Thank you for your review and consideration!"
   ]
  }
 ],
 "metadata": {
  "kernelspec": {
   "display_name": "Python 3",
   "language": "python",
   "name": "python3"
  },
  "language_info": {
   "codemirror_mode": {
    "name": "ipython",
    "version": 3
   },
   "file_extension": ".py",
   "mimetype": "text/x-python",
   "name": "python",
   "nbconvert_exporter": "python",
   "pygments_lexer": "ipython3",
   "version": "3.8.3"
  }
 },
 "nbformat": 4,
 "nbformat_minor": 4
}
